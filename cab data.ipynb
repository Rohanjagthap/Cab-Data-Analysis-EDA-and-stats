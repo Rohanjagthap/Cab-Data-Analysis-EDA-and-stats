{
 "cells": [
  {
   "cell_type": "code",
   "execution_count": 26,
   "metadata": {},
   "outputs": [],
   "source": [
    "import pandas as pd\n",
    "import numpy as np"
   ]
  },
  {
   "cell_type": "code",
   "execution_count": 27,
   "metadata": {},
   "outputs": [],
   "source": [
    "import matplotlib.pyplot as plt\n",
    "import seaborn as sns"
   ]
  },
  {
   "cell_type": "code",
   "execution_count": 69,
   "metadata": {},
   "outputs": [],
   "source": [
    "cab=pd.read_csv('C:/Users/jagth/Desktop/Case_Study/Case_Study/Cab_Data.csv')\n",
    "city=pd.read_csv('C:/Users/jagth/Desktop/Case_Study/Case_Study/City.csv')\n",
    "cust=pd.read_csv('C:/Users/jagth/Desktop/Case_Study/Case_Study/Customer_ID.csv')\n",
    "trans=pd.read_csv('C:/Users/jagth/Desktop/Case_Study/Case_Study/Transaction_ID.csv')"
   ]
  },
  {
   "cell_type": "code",
   "execution_count": 70,
   "metadata": {},
   "outputs": [
    {
     "name": "stdout",
     "output_type": "stream",
     "text": [
      "<class 'pandas.core.frame.DataFrame'>\n",
      "RangeIndex: 1998 entries, 0 to 1997\n",
      "Data columns (total 7 columns):\n",
      "Transaction ID    1998 non-null int64\n",
      "Date of Travel    1998 non-null object\n",
      "Company           1998 non-null object\n",
      "City              1998 non-null object\n",
      "KM Travelled      1998 non-null float64\n",
      "Price Charged     1998 non-null float64\n",
      "Cost of Trip      1998 non-null float64\n",
      "dtypes: float64(3), int64(1), object(3)\n",
      "memory usage: 109.4+ KB\n"
     ]
    }
   ],
   "source": [
    "cab.info()"
   ]
  },
  {
   "cell_type": "code",
   "execution_count": 71,
   "metadata": {},
   "outputs": [
    {
     "name": "stdout",
     "output_type": "stream",
     "text": [
      "<class 'pandas.core.frame.DataFrame'>\n",
      "RangeIndex: 20 entries, 0 to 19\n",
      "Data columns (total 3 columns):\n",
      "City          20 non-null object\n",
      "Population    20 non-null object\n",
      "Users         20 non-null object\n",
      "dtypes: object(3)\n",
      "memory usage: 608.0+ bytes\n"
     ]
    }
   ],
   "source": [
    "city.info()"
   ]
  },
  {
   "cell_type": "code",
   "execution_count": 72,
   "metadata": {},
   "outputs": [
    {
     "name": "stdout",
     "output_type": "stream",
     "text": [
      "<class 'pandas.core.frame.DataFrame'>\n",
      "RangeIndex: 49171 entries, 0 to 49170\n",
      "Data columns (total 4 columns):\n",
      "Customer ID           49171 non-null int64\n",
      "Gender                49171 non-null object\n",
      "Age                   49171 non-null int64\n",
      "Income (USD/Month)    49171 non-null int64\n",
      "dtypes: int64(3), object(1)\n",
      "memory usage: 1.5+ MB\n"
     ]
    }
   ],
   "source": [
    "cust.info()"
   ]
  },
  {
   "cell_type": "code",
   "execution_count": 73,
   "metadata": {},
   "outputs": [
    {
     "name": "stdout",
     "output_type": "stream",
     "text": [
      "<class 'pandas.core.frame.DataFrame'>\n",
      "RangeIndex: 1999 entries, 0 to 1998\n",
      "Data columns (total 3 columns):\n",
      "Transaction ID    1999 non-null int64\n",
      "Customer ID       1999 non-null int64\n",
      "Payment_Mode      1999 non-null object\n",
      "dtypes: int64(2), object(1)\n",
      "memory usage: 47.0+ KB\n"
     ]
    }
   ],
   "source": [
    "trans.info()"
   ]
  },
  {
   "cell_type": "code",
   "execution_count": 74,
   "metadata": {},
   "outputs": [
    {
     "data": {
      "image/png": "[encoded data removed]",
      "text/plain": [
       "<Figure size 432x288 with 1 Axes>"
      ]
     },
     "metadata": {
      "needs_background": "light"
     },
     "output_type": "display_data"
    }
   ],
   "source": [
    "trans.Payment_Mode.value_counts().plot(kind='bar')\n",
    "plt.xticks(rotation=0)\n",
    "plt.show()"
   ]
  },
  {
   "cell_type": "code",
   "execution_count": 75,
   "metadata": {},
   "outputs": [
    {
     "name": "stdout",
     "output_type": "stream",
     "text": [
      "<class 'pandas.core.frame.DataFrame'>\n",
      "Int64Index: 1999 entries, 0 to 1998\n",
      "Data columns (total 6 columns):\n",
      "Transaction ID        1999 non-null int64\n",
      "Customer ID           1999 non-null int64\n",
      "Payment_Mode          1999 non-null object\n",
      "Gender                1999 non-null object\n",
      "Age                   1999 non-null int64\n",
      "Income (USD/Month)    1999 non-null int64\n",
      "dtypes: int64(4), object(2)\n",
      "memory usage: 109.3+ KB\n"
     ]
    }
   ],
   "source": [
    "cust_trans=pd.merge(trans,cust,on='Customer ID')\n",
    "cust_trans.info()"
   ]
  },
  {
   "cell_type": "code",
   "execution_count": 76,
   "metadata": {},
   "outputs": [
    {
     "data": {
      "text/html": [
       "<div>\n",
       "<style scoped>\n",
       "    .dataframe tbody tr th:only-of-type {\n",
       "        vertical-align: middle;\n",
       "    }\n",
       "\n",
       "    .dataframe tbody tr th {\n",
       "        vertical-align: top;\n",
       "    }\n",
       "\n",
       "    .dataframe thead th {\n",
       "        text-align: right;\n",
       "    }\n",
       "</style>\n",
       "<table border=\"1\" class=\"dataframe\">\n",
       "  <thead>\n",
       "    <tr style=\"text-align: right;\">\n",
       "      <th></th>\n",
       "      <th>Transaction ID</th>\n",
       "      <th>Customer ID</th>\n",
       "      <th>Payment_Mode</th>\n",
       "      <th>Gender</th>\n",
       "      <th>Age</th>\n",
       "      <th>Income (USD/Month)</th>\n",
       "    </tr>\n",
       "  </thead>\n",
       "  <tbody>\n",
       "    <tr>\n",
       "      <td>0</td>\n",
       "      <td>10000011</td>\n",
       "      <td>29290</td>\n",
       "      <td>Card</td>\n",
       "      <td>Male</td>\n",
       "      <td>28</td>\n",
       "      <td>10813</td>\n",
       "    </tr>\n",
       "    <tr>\n",
       "      <td>1</td>\n",
       "      <td>10000012</td>\n",
       "      <td>27703</td>\n",
       "      <td>Card</td>\n",
       "      <td>Male</td>\n",
       "      <td>27</td>\n",
       "      <td>9237</td>\n",
       "    </tr>\n",
       "    <tr>\n",
       "      <td>2</td>\n",
       "      <td>10000013</td>\n",
       "      <td>28712</td>\n",
       "      <td>Cash</td>\n",
       "      <td>Male</td>\n",
       "      <td>53</td>\n",
       "      <td>11242</td>\n",
       "    </tr>\n",
       "    <tr>\n",
       "      <td>3</td>\n",
       "      <td>10000014</td>\n",
       "      <td>28020</td>\n",
       "      <td>Cash</td>\n",
       "      <td>Male</td>\n",
       "      <td>23</td>\n",
       "      <td>23327</td>\n",
       "    </tr>\n",
       "    <tr>\n",
       "      <td>4</td>\n",
       "      <td>10000015</td>\n",
       "      <td>27182</td>\n",
       "      <td>Card</td>\n",
       "      <td>Male</td>\n",
       "      <td>33</td>\n",
       "      <td>8536</td>\n",
       "    </tr>\n",
       "  </tbody>\n",
       "</table>\n",
       "</div>"
      ],
      "text/plain": [
       "   Transaction ID  Customer ID Payment_Mode Gender  Age  Income (USD/Month)\n",
       "0        10000011        29290         Card   Male   28               10813\n",
       "1        10000012        27703         Card   Male   27                9237\n",
       "2        10000013        28712         Cash   Male   53               11242\n",
       "3        10000014        28020         Cash   Male   23               23327\n",
       "4        10000015        27182         Card   Male   33                8536"
      ]
     },
     "execution_count": 76,
     "metadata": {},
     "output_type": "execute_result"
    }
   ],
   "source": [
    "cust_trans.head()"
   ]
  },
  {
   "cell_type": "code",
   "execution_count": 77,
   "metadata": {},
   "outputs": [
    {
     "name": "stdout",
     "output_type": "stream",
     "text": [
      "<class 'pandas.core.frame.DataFrame'>\n",
      "Int64Index: 1558 entries, 0 to 1557\n",
      "Data columns (total 12 columns):\n",
      "Transaction ID        1558 non-null int64\n",
      "Customer ID           1558 non-null int64\n",
      "Payment_Mode          1558 non-null object\n",
      "Gender                1558 non-null object\n",
      "Age                   1558 non-null int64\n",
      "Income (USD/Month)    1558 non-null int64\n",
      "Date of Travel        1558 non-null object\n",
      "Company               1558 non-null object\n",
      "City                  1558 non-null object\n",
      "KM Travelled          1558 non-null float64\n",
      "Price Charged         1558 non-null float64\n",
      "Cost of Trip          1558 non-null float64\n",
      "dtypes: float64(3), int64(4), object(5)\n",
      "memory usage: 158.2+ KB\n"
     ]
    }
   ],
   "source": [
    "new_cab=pd.merge(cust_trans,cab,on='Transaction ID')\n",
    "new_cab.info()"
   ]
  },
  {
   "cell_type": "code",
   "execution_count": 78,
   "metadata": {},
   "outputs": [
    {
     "data": {
      "text/html": [
       "<div>\n",
       "<style scoped>\n",
       "    .dataframe tbody tr th:only-of-type {\n",
       "        vertical-align: middle;\n",
       "    }\n",
       "\n",
       "    .dataframe tbody tr th {\n",
       "        vertical-align: top;\n",
       "    }\n",
       "\n",
       "    .dataframe thead th {\n",
       "        text-align: right;\n",
       "    }\n",
       "</style>\n",
       "<table border=\"1\" class=\"dataframe\">\n",
       "  <thead>\n",
       "    <tr style=\"text-align: right;\">\n",
       "      <th></th>\n",
       "      <th>Transaction ID</th>\n",
       "      <th>Customer ID</th>\n",
       "      <th>Age</th>\n",
       "      <th>Income (USD/Month)</th>\n",
       "      <th>KM Travelled</th>\n",
       "      <th>Price Charged</th>\n",
       "      <th>Cost of Trip</th>\n",
       "    </tr>\n",
       "  </thead>\n",
       "  <tbody>\n",
       "    <tr>\n",
       "      <td>count</td>\n",
       "      <td>1.558000e+03</td>\n",
       "      <td>1558.000000</td>\n",
       "      <td>1558.000000</td>\n",
       "      <td>1558.000000</td>\n",
       "      <td>1558.000000</td>\n",
       "      <td>1558.000000</td>\n",
       "      <td>1558.000000</td>\n",
       "    </tr>\n",
       "    <tr>\n",
       "      <td>mean</td>\n",
       "      <td>1.000101e+07</td>\n",
       "      <td>19444.908216</td>\n",
       "      <td>34.886393</td>\n",
       "      <td>14872.437099</td>\n",
       "      <td>22.637599</td>\n",
       "      <td>478.152125</td>\n",
       "      <td>284.634846</td>\n",
       "    </tr>\n",
       "    <tr>\n",
       "      <td>std</td>\n",
       "      <td>5.833350e+02</td>\n",
       "      <td>20377.418986</td>\n",
       "      <td>12.668717</td>\n",
       "      <td>7953.293530</td>\n",
       "      <td>12.278440</td>\n",
       "      <td>303.512623</td>\n",
       "      <td>157.573756</td>\n",
       "    </tr>\n",
       "    <tr>\n",
       "      <td>min</td>\n",
       "      <td>1.000001e+07</td>\n",
       "      <td>8.000000</td>\n",
       "      <td>18.000000</td>\n",
       "      <td>2035.000000</td>\n",
       "      <td>1.900000</td>\n",
       "      <td>22.200000</td>\n",
       "      <td>19.380000</td>\n",
       "    </tr>\n",
       "    <tr>\n",
       "      <td>25%</td>\n",
       "      <td>1.000054e+07</td>\n",
       "      <td>3975.250000</td>\n",
       "      <td>24.000000</td>\n",
       "      <td>8145.250000</td>\n",
       "      <td>12.100000</td>\n",
       "      <td>227.190000</td>\n",
       "      <td>149.870500</td>\n",
       "    </tr>\n",
       "    <tr>\n",
       "      <td>50%</td>\n",
       "      <td>1.000093e+07</td>\n",
       "      <td>7631.500000</td>\n",
       "      <td>32.000000</td>\n",
       "      <td>14635.500000</td>\n",
       "      <td>22.400000</td>\n",
       "      <td>440.085000</td>\n",
       "      <td>280.119000</td>\n",
       "    </tr>\n",
       "    <tr>\n",
       "      <td>75%</td>\n",
       "      <td>1.000148e+07</td>\n",
       "      <td>33780.000000</td>\n",
       "      <td>41.000000</td>\n",
       "      <td>20797.250000</td>\n",
       "      <td>32.995000</td>\n",
       "      <td>687.887500</td>\n",
       "      <td>417.469000</td>\n",
       "    </tr>\n",
       "    <tr>\n",
       "      <td>max</td>\n",
       "      <td>1.000201e+07</td>\n",
       "      <td>59965.000000</td>\n",
       "      <td>65.000000</td>\n",
       "      <td>34968.000000</td>\n",
       "      <td>47.600000</td>\n",
       "      <td>1544.450000</td>\n",
       "      <td>662.688000</td>\n",
       "    </tr>\n",
       "  </tbody>\n",
       "</table>\n",
       "</div>"
      ],
      "text/plain": [
       "       Transaction ID   Customer ID          Age  Income (USD/Month)  \\\n",
       "count    1.558000e+03   1558.000000  1558.000000         1558.000000   \n",
       "mean     1.000101e+07  19444.908216    34.886393        14872.437099   \n",
       "std      5.833350e+02  20377.418986    12.668717         7953.293530   \n",
       "min      1.000001e+07      8.000000    18.000000         2035.000000   \n",
       "25%      1.000054e+07   3975.250000    24.000000         8145.250000   \n",
       "50%      1.000093e+07   7631.500000    32.000000        14635.500000   \n",
       "75%      1.000148e+07  33780.000000    41.000000        20797.250000   \n",
       "max      1.000201e+07  59965.000000    65.000000        34968.000000   \n",
       "\n",
       "       KM Travelled  Price Charged  Cost of Trip  \n",
       "count   1558.000000    1558.000000   1558.000000  \n",
       "mean      22.637599     478.152125    284.634846  \n",
       "std       12.278440     303.512623    157.573756  \n",
       "min        1.900000      22.200000     19.380000  \n",
       "25%       12.100000     227.190000    149.870500  \n",
       "50%       22.400000     440.085000    280.119000  \n",
       "75%       32.995000     687.887500    417.469000  \n",
       "max       47.600000    1544.450000    662.688000  "
      ]
     },
     "execution_count": 78,
     "metadata": {},
     "output_type": "execute_result"
    }
   ],
   "source": [
    "new_cab.describe()"
   ]
  },
  {
   "cell_type": "code",
   "execution_count": 79,
   "metadata": {},
   "outputs": [],
   "source": [
    "new_cab['profit']=new_cab['Price Charged']-new_cab['Cost of Trip']\n",
    "new_cab['ppkm']=new_cab['Price Charged']/new_cab['KM Travelled']\n",
    "new_cab['cpkm']=new_cab['Cost of Trip']/new_cab['KM Travelled']\n",
    "new_cab['profitkm']=new_cab['ppkm']-new_cab['cpkm']"
   ]
  },
  {
   "cell_type": "code",
   "execution_count": 124,
   "metadata": {},
   "outputs": [],
   "source": [
    "new_cab['Date of Travel']=pd.to_datetime(new_cab['Date of Travel'])"
   ]
  },
  {
   "cell_type": "code",
   "execution_count": 85,
   "metadata": {},
   "outputs": [
    {
     "data": {
      "image/png": "[encoded data removed]",
      "text/plain": [
       "<Figure size 432x288 with 1 Axes>"
      ]
     },
     "metadata": {
      "needs_background": "light"
     },
     "output_type": "display_data"
    }
   ],
   "source": [
    "sns.lineplot(x=new_cab['Date of Travel'],y=new_cab['profit'],hue=new_cab['Company'])\n",
    "plt.xticks(rotation=90)\n",
    "plt.show()"
   ]
  },
  {
   "cell_type": "code",
   "execution_count": 86,
   "metadata": {},
   "outputs": [
    {
     "data": {
      "text/html": [
       "<div>\n",
       "<style scoped>\n",
       "    .dataframe tbody tr th:only-of-type {\n",
       "        vertical-align: middle;\n",
       "    }\n",
       "\n",
       "    .dataframe tbody tr th {\n",
       "        vertical-align: top;\n",
       "    }\n",
       "\n",
       "    .dataframe thead th {\n",
       "        text-align: right;\n",
       "    }\n",
       "</style>\n",
       "<table border=\"1\" class=\"dataframe\">\n",
       "  <thead>\n",
       "    <tr style=\"text-align: right;\">\n",
       "      <th>Company</th>\n",
       "      <th>Pink Cab</th>\n",
       "      <th>Yellow Cab</th>\n",
       "    </tr>\n",
       "    <tr>\n",
       "      <th>Date of Travel</th>\n",
       "      <th></th>\n",
       "      <th></th>\n",
       "    </tr>\n",
       "  </thead>\n",
       "  <tbody>\n",
       "    <tr>\n",
       "      <td>2016-01-02</td>\n",
       "      <td>41</td>\n",
       "      <td>140</td>\n",
       "    </tr>\n",
       "    <tr>\n",
       "      <td>2016-01-03</td>\n",
       "      <td>52</td>\n",
       "      <td>126</td>\n",
       "    </tr>\n",
       "    <tr>\n",
       "      <td>2016-01-04</td>\n",
       "      <td>4</td>\n",
       "      <td>21</td>\n",
       "    </tr>\n",
       "    <tr>\n",
       "      <td>2016-01-05</td>\n",
       "      <td>6</td>\n",
       "      <td>41</td>\n",
       "    </tr>\n",
       "    <tr>\n",
       "      <td>2016-01-06</td>\n",
       "      <td>23</td>\n",
       "      <td>86</td>\n",
       "    </tr>\n",
       "    <tr>\n",
       "      <td>2016-01-07</td>\n",
       "      <td>24</td>\n",
       "      <td>117</td>\n",
       "    </tr>\n",
       "    <tr>\n",
       "      <td>2016-01-08</td>\n",
       "      <td>21</td>\n",
       "      <td>90</td>\n",
       "    </tr>\n",
       "    <tr>\n",
       "      <td>2016-01-09</td>\n",
       "      <td>57</td>\n",
       "      <td>137</td>\n",
       "    </tr>\n",
       "    <tr>\n",
       "      <td>2016-01-10</td>\n",
       "      <td>67</td>\n",
       "      <td>104</td>\n",
       "    </tr>\n",
       "    <tr>\n",
       "      <td>2016-01-11</td>\n",
       "      <td>13</td>\n",
       "      <td>57</td>\n",
       "    </tr>\n",
       "    <tr>\n",
       "      <td>2016-01-12</td>\n",
       "      <td>22</td>\n",
       "      <td>33</td>\n",
       "    </tr>\n",
       "    <tr>\n",
       "      <td>2016-01-13</td>\n",
       "      <td>16</td>\n",
       "      <td>25</td>\n",
       "    </tr>\n",
       "    <tr>\n",
       "      <td>2016-01-14</td>\n",
       "      <td>29</td>\n",
       "      <td>30</td>\n",
       "    </tr>\n",
       "    <tr>\n",
       "      <td>2016-01-15</td>\n",
       "      <td>24</td>\n",
       "      <td>30</td>\n",
       "    </tr>\n",
       "    <tr>\n",
       "      <td>2016-01-16</td>\n",
       "      <td>15</td>\n",
       "      <td>28</td>\n",
       "    </tr>\n",
       "    <tr>\n",
       "      <td>2016-01-17</td>\n",
       "      <td>22</td>\n",
       "      <td>23</td>\n",
       "    </tr>\n",
       "    <tr>\n",
       "      <td>2016-01-18</td>\n",
       "      <td>17</td>\n",
       "      <td>13</td>\n",
       "    </tr>\n",
       "    <tr>\n",
       "      <td>2016-01-19</td>\n",
       "      <td>1</td>\n",
       "      <td>3</td>\n",
       "    </tr>\n",
       "  </tbody>\n",
       "</table>\n",
       "</div>"
      ],
      "text/plain": [
       "Company         Pink Cab  Yellow Cab\n",
       "Date of Travel                      \n",
       "2016-01-02            41         140\n",
       "2016-01-03            52         126\n",
       "2016-01-04             4          21\n",
       "2016-01-05             6          41\n",
       "2016-01-06            23          86\n",
       "2016-01-07            24         117\n",
       "2016-01-08            21          90\n",
       "2016-01-09            57         137\n",
       "2016-01-10            67         104\n",
       "2016-01-11            13          57\n",
       "2016-01-12            22          33\n",
       "2016-01-13            16          25\n",
       "2016-01-14            29          30\n",
       "2016-01-15            24          30\n",
       "2016-01-16            15          28\n",
       "2016-01-17            22          23\n",
       "2016-01-18            17          13\n",
       "2016-01-19             1           3"
      ]
     },
     "execution_count": 86,
     "metadata": {},
     "output_type": "execute_result"
    }
   ],
   "source": [
    "pd.crosstab(index=new_cab['Date of Travel'],columns=new_cab['Company'],values=new_cab['Transaction ID'],aggfunc='count')"
   ]
  },
  {
   "cell_type": "code",
   "execution_count": 88,
   "metadata": {},
   "outputs": [
    {
     "data": {
      "text/plain": [
       "2016-01-09    194\n",
       "2016-01-02    181\n",
       "2016-01-03    178\n",
       "2016-01-10    171\n",
       "2016-01-07    141\n",
       "2016-01-08    111\n",
       "2016-01-06    109\n",
       "2016-01-11     70\n",
       "2016-01-14     59\n",
       "2016-01-12     55\n",
       "2016-01-15     54\n",
       "2016-01-05     47\n",
       "2016-01-17     45\n",
       "2016-01-16     43\n",
       "2016-01-13     41\n",
       "2016-01-18     30\n",
       "2016-01-04     25\n",
       "2016-01-19      4\n",
       "Name: Date of Travel, dtype: int64"
      ]
     },
     "execution_count": 88,
     "metadata": {},
     "output_type": "execute_result"
    }
   ],
   "source": [
    "new_cab['Date of Travel'].value_counts()"
   ]
  },
  {
   "cell_type": "code",
   "execution_count": 89,
   "metadata": {},
   "outputs": [
    {
     "data": {
      "text/plain": [
       "<matplotlib.axes._subplots.AxesSubplot at 0x1e9fc370708>"
      ]
     },
     "execution_count": 89,
     "metadata": {},
     "output_type": "execute_result"
    },
    {
     "data": {
      "image/png": "[encoded data removed]",
      "text/plain": [
       "<Figure size 432x288 with 1 Axes>"
      ]
     },
     "metadata": {
      "needs_background": "light"
     },
     "output_type": "display_data"
    }
   ],
   "source": [
    "pd.crosstab(index=new_cab['Date of Travel'],columns=new_cab['Company'],values=new_cab['Transaction ID'],aggfunc='count').plot()"
   ]
  },
  {
   "cell_type": "markdown",
   "metadata": {},
   "source": [
    "As a result of biasness in the data as in we have smaller sample of pink cabs when compared to yellow cabs, at any given time period yellow cab has maximum no of cabs\n",
    "\n",
    "Although by looking at the trend we can also say that no of customers fall as the month end approaches and hence on 18th of the month pink cab customer count increases when compared to yellow cabs"
   ]
  },
  {
   "cell_type": "code",
   "execution_count": 90,
   "metadata": {},
   "outputs": [],
   "source": [
    "yellow=new_cab[new_cab['Company']=='Yellow Cab']\n",
    "pink=new_cab[new_cab['Company']=='Pink Cab']"
   ]
  },
  {
   "cell_type": "code",
   "execution_count": 91,
   "metadata": {},
   "outputs": [],
   "source": [
    "import scipy.stats as stats"
   ]
  },
  {
   "cell_type": "code",
   "execution_count": 92,
   "metadata": {},
   "outputs": [
    {
     "data": {
      "text/plain": [
       "Ttest_indResult(statistic=24.9204228252716, pvalue=1.267323970767422e-115)"
      ]
     },
     "execution_count": 92,
     "metadata": {},
     "output_type": "execute_result"
    }
   ],
   "source": [
    "stats.ttest_ind(yellow['profitkm'],pink['profitkm'])"
   ]
  },
  {
   "cell_type": "code",
   "execution_count": 93,
   "metadata": {},
   "outputs": [
    {
     "data": {
      "text/plain": [
       "Ttest_indResult(statistic=15.147020594340997, pvalue=1.8908630848987897e-48)"
      ]
     },
     "execution_count": 93,
     "metadata": {},
     "output_type": "execute_result"
    }
   ],
   "source": [
    "stats.ttest_ind(yellow['profit'],pink['profit'])"
   ]
  },
  {
   "cell_type": "markdown",
   "metadata": {},
   "source": [
    "Well when we look at profit per km and profit totally earned by the companies statistically it is clear that they have sigificant difference in the profits they earn"
   ]
  },
  {
   "cell_type": "code",
   "execution_count": 120,
   "metadata": {},
   "outputs": [
    {
     "data": {
      "text/plain": [
       "<matplotlib.axes._subplots.AxesSubplot at 0x1e9ff130848>"
      ]
     },
     "execution_count": 120,
     "metadata": {},
     "output_type": "execute_result"
    },
    {
     "data": {
      "image/png": "[encoded data removed]",
      "text/plain": [
       "<Figure size 1440x648 with 2 Axes>"
      ]
     },
     "metadata": {
      "needs_background": "light"
     },
     "output_type": "display_data"
    }
   ],
   "source": [
    "a,b=plt.subplots(1,2,figsize=(20,9))\n",
    "pink.groupby(['City'])[['cpkm','ppkm']].sum().plot(kind='barh',ax=b[0])\n",
    "pink.groupby('City')[['profit']].sum().plot(kind='barh',ax=b[1])"
   ]
  },
  {
   "cell_type": "code",
   "execution_count": 123,
   "metadata": {},
   "outputs": [
    {
     "data": {
      "text/plain": [
       "<matplotlib.axes._subplots.AxesSubplot at 0x1e980193608>"
      ]
     },
     "execution_count": 123,
     "metadata": {},
     "output_type": "execute_result"
    },
    {
     "data": {
      "image/png": "[encoded data removed]",
      "text/plain": [
       "<Figure size 1440x648 with 2 Axes>"
      ]
     },
     "metadata": {
      "needs_background": "light"
     },
     "output_type": "display_data"
    }
   ],
   "source": [
    "c,b=plt.subplots(1,2,figsize=(20,9))\n",
    "yellow.groupby(['City'])[['cpkm','ppkm']].sum().plot(kind='barh',ax=b[0])\n",
    "yellow.groupby('City')[['profit']].sum().plot(kind='barh',ax=b[1])"
   ]
  },
  {
   "cell_type": "markdown",
   "metadata": {},
   "source": [
    "Well by the above visualzation, it can be said that pink cab price over cost is lesser than that of yellow i.e; pink cab charges price almost equal to the cost incurred, where as yellow cab charges much higher over cost incurred which makes it earn a higher profit than pink cab in every state"
   ]
  },
  {
   "cell_type": "markdown",
   "metadata": {},
   "source": [
    "Hence, with the increase in number of customers the margin also increases for yellow cab than pink cab\n",
    "Pink cab is more prone to make losses in the few of the states where it is already making losses."
   ]
  },
  {
   "cell_type": "code",
   "execution_count": 136,
   "metadata": {},
   "outputs": [
    {
     "data": {
      "text/plain": [
       "<matplotlib.axes._subplots.AxesSubplot at 0x1e980a816c8>"
      ]
     },
     "execution_count": 136,
     "metadata": {},
     "output_type": "execute_result"
    },
    {
     "data": {
      "image/png": "[encoded data removed]",
      "text/plain": [
       "<Figure size 432x288 with 1 Axes>"
      ]
     },
     "metadata": {
      "needs_background": "light"
     },
     "output_type": "display_data"
    }
   ],
   "source": [
    "sns.boxplot(new_cab['Income (USD/Month)'],y=new_cab['Company'])"
   ]
  },
  {
   "cell_type": "code",
   "execution_count": 138,
   "metadata": {},
   "outputs": [
    {
     "data": {
      "text/plain": [
       "Ttest_indResult(statistic=-1.1651112095098741, pvalue=0.24415256206871813)"
      ]
     },
     "execution_count": 138,
     "metadata": {},
     "output_type": "execute_result"
    }
   ],
   "source": [
    "stats.ttest_ind(yellow['Income (USD/Month)'],pink['Income (USD/Month)'])"
   ]
  },
  {
   "cell_type": "markdown",
   "metadata": {},
   "source": [
    "Here statistically it is clear that the income range of individuals or customers opting both the companies are almost around same"
   ]
  },
  {
   "cell_type": "code",
   "execution_count": 202,
   "metadata": {},
   "outputs": [
    {
     "name": "stderr",
     "output_type": "stream",
     "text": [
      "C:\\Users\\jagth\\Anaconda3\\lib\\site-packages\\ipykernel_launcher.py:6: SettingWithCopyWarning: \n",
      "A value is trying to be set on a copy of a slice from a DataFrame\n",
      "\n",
      "See the caveats in the documentation: http://pandas.pydata.org/pandas-docs/stable/user_guide/indexing.html#returning-a-view-versus-a-copy\n",
      "  \n"
     ]
    }
   ],
   "source": [
    "new_cab['new']=0\n",
    "for i in new_cab.Age.index:\n",
    "    if new_cab['Age'].iloc[i] in range(0,21):\n",
    "        new_cab.new[new_cab['Age']==new_cab.Age.iloc[i]]='0-20'\n",
    "    elif new_cab.Age.iloc[i] in range(21,41):\n",
    "        new_cab.new[new_cab['Age']==new_cab.Age.iloc[i]]='21-40'\n",
    "    elif new_cab.Age.iloc[i] in range(41,61):\n",
    "        new_cab.new[new_cab['Age']==new_cab.Age.iloc[i]]='41-60'\n",
    "    elif new_cab.Age.iloc[i] in range(61,81):\n",
    "        new_cab.new[new_cab['Age']==new_cab.Age.iloc[i]]='61-80'\n",
    "    else:\n",
    "        new_cab.new[new_cab['Age']==new_cab.Age.iloc[i]]='81-100'"
   ]
  },
  {
   "cell_type": "code",
   "execution_count": 211,
   "metadata": {},
   "outputs": [
    {
     "data": {
      "text/plain": [
       "<matplotlib.axes._subplots.AxesSubplot at 0x1e988b6a3c8>"
      ]
     },
     "execution_count": 211,
     "metadata": {},
     "output_type": "execute_result"
    },
    {
     "data": {
      "image/png": "[encoded data removed]",
      "text/plain": [
       "<Figure size 1080x432 with 3 Axes>"
      ]
     },
     "metadata": {
      "needs_background": "light"
     },
     "output_type": "display_data"
    }
   ],
   "source": [
    "d,b=plt.subplots(1,3,figsize=(15,6))\n",
    "sns.countplot(hue=new_cab['Payment_Mode'],x=new_cab['Company'],ax=b[0])\n",
    "sns.countplot(hue=new_cab['Gender'],x=new_cab['Company'],ax=b[1])\n",
    "sns.countplot(hue=new_cab['new'],x=new_cab['Company'],ax=b[2])"
   ]
  },
  {
   "cell_type": "markdown",
   "metadata": {},
   "source": [
    "Customers mostly prefer card payment mode over cash irrespective of the company.\n",
    "As only the transactions made data was picked for the margin estimation of both the companies, we found only male customer transactions.\n",
    "Young individuals are the higher contributors to the business followed by middle aged individuals."
   ]
  },
  {
   "cell_type": "markdown",
   "metadata": {},
   "source": [
    "## Conclusion:"
   ]
  },
  {
   "cell_type": "markdown",
   "metadata": {},
   "source": [
    "Hence for short run, immediate returns yellow cab is a better option to invest\n",
    "    And for longer run, Pink cab is a considerable option to invest as even with baised data pink cab shows almost considerable amount of similarity to yellow cabs. Only disadvantage here is the company is making losses in few states but as its charging almost equal or lesser than the cost incurred. Well to assume, pink cab can be a new company in the field trying to gain customer trust which might start making profits in near future as customers in every income range opt for pink cabs and also the same age range pattern is seen in the pink cabs.\n",
    "    This assumption also supports the biasness in the data."
   ]
  }
 ],
 "metadata": {
  "kernelspec": {
   "display_name": "Python 3",
   "language": "python",
   "name": "python3"
  },
  "language_info": {
   "codemirror_mode": {
    "name": "ipython",
    "version": 3
   },
   "file_extension": ".py",
   "mimetype": "text/x-python",
   "name": "python",
   "nbconvert_exporter": "python",
   "pygments_lexer": "ipython3",
   "version": "3.7.4"
  }
 },
 "nbformat": 4,
 "nbformat_minor": 2
}
